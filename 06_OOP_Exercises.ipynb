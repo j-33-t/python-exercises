{
 "cells": [
  {
   "cell_type": "markdown",
   "metadata": {},
   "source": [
    "### OOP Exercise 1: Create a Class with instance attributes\n",
    "Write a Python program to create a Vehicle class with \"name\", \"max_speed\" and \"mileage\" instance attributes.\n"
   ]
  },
  {
   "cell_type": "code",
   "execution_count": 6,
   "metadata": {},
   "outputs": [
    {
     "name": "stdout",
     "output_type": "stream",
     "text": [
      "Car name :tesla model x , Max speed : 200 , Mileage : 30\n"
     ]
    }
   ],
   "source": [
    "\n",
    "class Vehicle():\n",
    "    def __init__(self,name, max_speed, mileage):\n",
    "        self.name = name\n",
    "        self.max_speed = max_speed\n",
    "        self.mileage = mileage\n",
    "        \n",
    "Tesla_model_X = Vehicle(\"tesla model x\",200,30)\n",
    "\n",
    "print(f\"Car name :{Tesla_model_X.name} , Max speed : {Tesla_model_X.max_speed} , Mileage : {Tesla_model_X.mileage}\")\n"
   ]
  },
  {
   "cell_type": "markdown",
   "metadata": {},
   "source": [
    "\n",
    "### OOP Exercise 2: \n",
    "Create a child class Bus that will inherit all of the variables and methods of the Vehicle class \n",
    "- Expected output : \"Vehicle Name: School Volvo Speed: 180 Mileage: 12\""
   ]
  },
  {
   "cell_type": "code",
   "execution_count": 7,
   "metadata": {},
   "outputs": [
    {
     "name": "stdout",
     "output_type": "stream",
     "text": [
      "Vehicle Name: School Volvo Speed : 180 Mileage : 12 \n"
     ]
    }
   ],
   "source": [
    "class Bus(Vehicle):\n",
    "    pass\n",
    "\n",
    "school_bus = Bus(\"School Volvo\", 180, 12) \n",
    "\n",
    "print(f\"Vehicle Name: {school_bus.name} Speed : {school_bus.max_speed} Mileage : {school_bus.mileage} \")"
   ]
  },
  {
   "cell_type": "markdown",
   "metadata": {},
   "source": [
    "### OOP Exercise 6: Class Inheritance\n",
    "Given:\n",
    "\n",
    "Create a Bus child class that inherits from the Vehicle class. \n",
    "- The default fare charge of any vehicle is seating capacity * 100. \n",
    "- If Vehicle is Bus instance, we need to add an extra 10% on full fare as a maintenance charge. \n",
    "- So total fare for bus instance will become the final amount = total fare + 10% of the total fare.\n",
    "\n",
    "Note: The bus seating capacity is 50. so the final fare amount should be 5500. You need to override the fare() method of a Vehicle class in Bus class.\n",
    "\n",
    "Use the following code for your parent Vehicle class. We need to access the parent class from inside a method of a child class.\n"
   ]
  },
  {
   "cell_type": "code",
   "execution_count": 8,
   "metadata": {},
   "outputs": [
    {
     "name": "stdout",
     "output_type": "stream",
     "text": [
      "Total Bus fare is: 5000\n"
     ]
    }
   ],
   "source": [
    "class Vehicle:\n",
    "    def __init__(self, name, mileage, capacity):\n",
    "        self.name = name\n",
    "        self.mileage = mileage\n",
    "        self.capacity = capacity\n",
    "\n",
    "    def fare(self):\n",
    "        return self.capacity * 100\n",
    "\n",
    "class Bus(Vehicle):\n",
    "    pass\n",
    "\n",
    "\n",
    "School_bus = Bus(\"School Volvo\", 12, 50)\n",
    "print(\"Total Bus fare is:\", School_bus.fare())"
   ]
  },
  {
   "cell_type": "markdown",
   "metadata": {},
   "source": [
    "- Expected Output : Total Bus fare is: 5500.0"
   ]
  },
  {
   "cell_type": "code",
   "execution_count": 13,
   "metadata": {},
   "outputs": [
    {
     "name": "stdout",
     "output_type": "stream",
     "text": [
      "Total Bus fare is: 5500.0\n"
     ]
    }
   ],
   "source": [
    "class Bus(Vehicle):\n",
    "    \n",
    "    def fare(self):\n",
    "        return (self.capacity * 100 ) + 0.1 * (self.capacity * 100 )\n",
    "\n",
    "\n",
    "School_bus = Bus(\"School Volvo\", 12, 50)\n",
    "print(\"Total Bus fare is:\", School_bus.fare())"
   ]
  },
  {
   "cell_type": "code",
   "execution_count": null,
   "metadata": {},
   "outputs": [],
   "source": []
  }
 ],
 "metadata": {
  "kernelspec": {
   "display_name": "Python 3.8.5 ('base')",
   "language": "python",
   "name": "python3"
  },
  "language_info": {
   "codemirror_mode": {
    "name": "ipython",
    "version": 3
   },
   "file_extension": ".py",
   "mimetype": "text/x-python",
   "name": "python",
   "nbconvert_exporter": "python",
   "pygments_lexer": "ipython3",
   "version": "3.8.5"
  },
  "orig_nbformat": 4,
  "vscode": {
   "interpreter": {
    "hash": "a1fb47844a43067c3c791d983d96d20a964eea004028ecb94da250cdad83be0a"
   }
  }
 },
 "nbformat": 4,
 "nbformat_minor": 2
}
